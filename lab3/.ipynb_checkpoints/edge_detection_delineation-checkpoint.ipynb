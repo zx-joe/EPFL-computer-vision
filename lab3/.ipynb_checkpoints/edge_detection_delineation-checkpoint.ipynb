{
 "cells": [
  {
   "cell_type": "markdown",
   "metadata": {},
   "source": [
    "# Exercise Session 3: Edge Detection and Delineation"
   ]
  },
  {
   "cell_type": "markdown",
   "metadata": {},
   "source": [
    "## Introduction"
   ]
  },
  {
   "cell_type": "markdown",
   "metadata": {},
   "source": [
    "Recently Google Earth provided an option to visualize 3D reconstructions of the mountain\n",
    "chains. An important feature to identify a mountain chain is its ridge (or edge) in the\n",
    "image. Human vision is very good at detecting such structures but doing it automatically\n",
    "using computer vision algorithms is not trivial. Here we will try to delineate the ridge of\n",
    "a mountain as given in Fig. 1 using Dijkstra’s algorithm. Use 'mountain.png' inside folder images as input."
   ]
  },
  {
   "cell_type": "markdown",
   "metadata": {},
   "source": [
    " \n",
    "<figure>\n",
    "  <img src=\"images/mountain.png\" style=\"float: left; width: 36%;margin: 20px 40px 55px 85px; \" />\n",
    "    <img src=\"images/ridge.png\" style=\"float: left; width: 36%;margin: 20px 40px 55px 85px; \"/>\n",
    "   \n",
    "    <figcaption>Figure 1: (a) Input image. Start and end positions of the ridge are displayed on\n",
    "the image. Pixel values for these positions are provided in the code. (b) Detected\n",
    "ridge. Ridge is detected between the start and end points using Dijkstra’s algorithm\n",
    "and overlayed on the image.</figcaption>\n",
    "</figure>\n",
    " \n",
    " "
   ]
  },
  {
   "cell_type": "code",
   "execution_count": 1,
   "metadata": {
    "collapsed": true
   },
   "outputs": [],
   "source": [
    "%matplotlib inline\n",
    "\n",
    "import numpy as np\n",
    "import matplotlib.pyplot as plt\n",
    "import cv2\n",
    "\n",
    "plt.rcParams['figure.figsize'] = (15, 15)\n",
    "plt.rcParams['image.cmap'] = 'gray'"
   ]
  },
  {
   "cell_type": "markdown",
   "metadata": {},
   "source": [
    "## Computing gradients"
   ]
  },
  {
   "cell_type": "markdown",
   "metadata": {},
   "source": [
    "We will first detect the edges in the image by simply computing the gradient image.\n",
    "This will then be used in the next exercise session for ridge delineation.\n",
    "* First read 'mountain.png' image and convert it to grayscale. \n",
    "* Smooth the images using a Gaussian\n",
    "filter of size $7 \\times 7$. Choose suitable $\\sigma$. What is the trade-off of using bigger $\\sigma$?\n",
    "* Compute the gradients in x- and y-directions using Sobel mask.\n",
    "* Compute a gradient-magnitude image.\n",
    "* Threshold gradient image to find the most pronounced edges and store as ```th_grad_img```. Output should look like the figure below. To obtain the below image, you need to replace the pronounced edge pixels with their magnitude in the thresholded image. The colormap used for visualization is 'jet' (```plt.imshow(th_grad_img,cmap='jet')```)\n",
    "\n",
    "<img src=\"images/threshgrad.png\" style=\"float: left; width: 50%;margin: 20px 40px 55px 85px; \" />"
   ]
  },
  {
   "cell_type": "code",
   "execution_count": null,
   "metadata": {
    "collapsed": true,
    "scrolled": false
   },
   "outputs": [],
   "source": []
  },
  {
   "cell_type": "markdown",
   "metadata": {},
   "source": [
    "## Delineating ridges"
   ]
  },
  {
   "cell_type": "markdown",
   "metadata": {
    "collapsed": true
   },
   "source": [
    "Given the thresholded gradient image computed in the previous exercise, we will now\n",
    "delineate the ridge of a mountain using Dijkstra’s shortest path algorithm. Roughly\n",
    "speaking, starting from an initial node, this algorithm looks around the neighboring\n",
    "pixels and chooses the pixel with the shortest distance to the current pixel as the next\n",
    "element of the path. Particularly, in this example, we will find the shortest paths from a\n",
    "starting pixel to all the other pixels in the image. </br>\n",
    "The distance of a pixel to a neighboring one can be defined by a cost value for the edge\n",
    "connecting these two pixels. For this particular problem, we will define the cost of the\n",
    "edge to pixel (i, j) from any of its 4-neighbors as ```cost(i,j) = C - thresholdedGrad(i, j)```,\n",
    "where C is a constant and thresholdedGrad(i,j) is the value of the thresholded\n",
    "gradient image at pixel (i, j). With such definition of cost, the algorithm will assign\n",
    "low cost values to high gradient regions, which are typically the regions in the image\n",
    "that belong to the ridges of the mountain, and therefore will choose pixels belonging\n",
    "to mountain ridges as the next element in the shortest path. In the end, this would\n",
    "effectively delineate the ridge of the mountain.\n",
    "In particular, the steps of the algorithm can be summarized as follows:\n",
    "1. Assign to every pixel a distance value: zero for the initial pixel and infinity for all\n",
    "other pixels.\n",
    "2. Set the initial pixel as current and mark it visited. All the other pixels are initially\n",
    "unvisited. Create a set of all the visited pixels called the visited set (e.g., a binary\n",
    "matrix of 1’s for visited pixels and 0’s for unvisited pixels).\n",
    "3. For the current pixel, consider all of its unvisited neighbors and calculate their\n",
    "distances. Use the edge cost defined above to measure the distance between a\n",
    "pixel and its neighboring one. Compare the newly calculated tentative distance to\n",
    "the current assigned value and assign the smaller one. For example, if the current\n",
    "pixel is marked with a distance of 15, and the edge connecting it with a neighbor has value 2, then the distance between them will be 15 + 2 = 17. If the neighbor\n",
    "was previously marked with a distance greater than 17 then change it to 17 and\n",
    "update the previous pixel position. Otherwise, keep the current value.\n",
    "4. When we are done considering all of the neighbors of the current pixel, mark the\n",
    "current node as visited. A visited pixel will never be checked again.\n",
    "5. Select the unvisited pixel that is marked with the smallest distance, set it as the\n",
    "new \"current pixel\", and go back to step 3.\n",
    "The algorithm will terminate when all the pixels in the image are visited."
   ]
  },
  {
   "cell_type": "markdown",
   "metadata": {},
   "source": [
    "### Computing the shortest path "
   ]
  },
  {
   "cell_type": "markdown",
   "metadata": {},
   "source": [
    "* Fill in the function\n",
    "dijkstra to implement the above algorithm. The input to the function should be\n",
    "respectively, the thresholded gradient image, the constant C, and starting position of\n",
    "the ridge. The algorithm should return a distance matrix that encodes the shortest\n",
    "path from the starting point to each pixel in the image and a matrix that stores for\n",
    "each pixel the position of the previous pixel that lies on the shortest path to the\n",
    "starting point."
   ]
  },
  {
   "cell_type": "code",
   "execution_count": 2,
   "metadata": {
    "collapsed": true
   },
   "outputs": [],
   "source": [
    "def dijkstra(thresholded_grad, C, ridge_start_row, ridge_start_col):\n",
    "\n",
    "\n",
    "#Implement your function here\n",
    "\n",
    "    return distance_matrix, previous_pixel"
   ]
  },
  {
   "cell_type": "markdown",
   "metadata": {},
   "source": [
    "* Run Dijkstra’s shortest path algorithm on the thresholded gradient image that you computed in the previous question and visualize the distance matrix."
   ]
  },
  {
   "cell_type": "code",
   "execution_count": null,
   "metadata": {},
   "outputs": [],
   "source": [
    "ridge_start_row = 67;\n",
    "ridge_start_col = 15;\n",
    "C = np.max(th_grad_img)"
   ]
  },
  {
   "cell_type": "code",
   "execution_count": null,
   "metadata": {},
   "outputs": [],
   "source": [
    "dist_matrix, prev_pxl = dijkstra(th_grad_img, C, ridge_start_row, ridge_start_col)\n",
    "fig, ax = plt.subplots()\n",
    "img1 = ax.imshow(dist_matrix, cmap='jet')\n",
    "fig.colorbar(img1, ax=ax)\n",
    "ax.set_aspect('auto')"
   ]
  },
  {
   "cell_type": "markdown",
   "metadata": {},
   "source": [
    "### Ridge Delineation"
   ]
  },
  {
   "cell_type": "markdown",
   "metadata": {},
   "source": [
    "* Now use the matrix that stores previous pixel positions in the shortest paths to the starting point to reconstruct the path form the end point back to the starting point. "
   ]
  },
  {
   "cell_type": "code",
   "execution_count": 5,
   "metadata": {
    "collapsed": true
   },
   "outputs": [],
   "source": [
    "def findRidge(ridge_start_row,ridge_start_col, ridge_end_row, ridge_end_col,parents):\n",
    "\n",
    "    #Implement your function here\n",
    "        \n",
    "    return ridge"
   ]
  },
  {
   "cell_type": "markdown",
   "metadata": {},
   "source": [
    "* Visualize the recovered path by overlaying it on the image"
   ]
  },
  {
   "cell_type": "code",
   "execution_count": null,
   "metadata": {},
   "outputs": [],
   "source": [
    "ridge_end_row = 35\n",
    "ridge_end_col = 149\n",
    "extracted_ridge=findRidge(ridge_start_row,ridge_start_col,ridge_end_row,ridge_end_col,prev_pxl)"
   ]
  },
  {
   "cell_type": "markdown",
   "metadata": {},
   "source": [
    "### Evaluating the edge cost"
   ]
  },
  {
   "cell_type": "markdown",
   "metadata": {},
   "source": [
    "* Try different values of $C$ in Dijkstra algorithm. Visualize the distance matrix and the detected ridge for given $C$ values. How does the distance and the final detected ridge change? Do you understand why? "
   ]
  },
  {
   "cell_type": "code",
   "execution_count": null,
   "metadata": {},
   "outputs": [],
   "source": [
    "constants = [np.max(th_grad_img), 1.5*np.max(th_grad_img), 2*np.max(th_grad_img)]"
   ]
  }
 ],
 "metadata": {
  "kernelspec": {
   "display_name": "Python 3",
   "language": "python",
   "name": "python3"
  },
  "language_info": {
   "codemirror_mode": {
    "name": "ipython",
    "version": 3
   },
   "file_extension": ".py",
   "mimetype": "text/x-python",
   "name": "python",
   "nbconvert_exporter": "python",
   "pygments_lexer": "ipython3",
   "version": "3.6.4"
  }
 },
 "nbformat": 4,
 "nbformat_minor": 2
}
