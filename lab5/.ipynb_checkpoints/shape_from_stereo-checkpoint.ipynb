{
 "cells": [
  {
   "cell_type": "markdown",
   "metadata": {},
   "source": [
    "\n",
    "# Exercise Session 5: Shape From Stereo"
   ]
  },
  {
   "cell_type": "markdown",
   "metadata": {},
   "source": [
    "One of the most common ways of reconstructing 3D shape from multiple images is called Shape-From-Stereo. It is based on the fact that points closer to the camera shift more in the image when the camera moves. By calculating the shift of each pixel we can deduce its relative distance to the camera.\n",
    "\n",
    "For each pixel in one image we find the closest matching pixel in the other image using correlation between surrounding patches. We then compute the pixel distance between the matching points, which quantifies the disparity.\n",
    "\n",
    "In this exercise we will implement those steps and test them with the below images\n",
    "\n",
    "<img src=\"images/right.png\">\n",
    "<h1><center>Fig.1: Right image</center></h1>\n",
    "<img src=\"images/left.png\">\n",
    "<h1><center>Fig.2: Left image</center></h1>"
   ]
  },
  {
   "cell_type": "code",
   "execution_count": 1,
   "metadata": {
    "collapsed": true
   },
   "outputs": [],
   "source": [
    "import numpy as np\n",
    "import cv2\n",
    "import matplotlib.pyplot as plt"
   ]
  },
  {
   "cell_type": "markdown",
   "metadata": {},
   "source": [
    "* We start by reading left and right image. We convert them to greyscale and resize to speed up the computation. You don't have to change this code."
   ]
  },
  {
   "cell_type": "code",
   "execution_count": 2,
   "metadata": {
    "collapsed": true
   },
   "outputs": [],
   "source": [
    "left_img = cv2.imread('images/left.png',0)\n",
    "right_img = cv2.imread('images/right.png',0)\n",
    "left_img = cv2.resize(left_img, None, fx=0.5, fy=0.5)\n",
    "right_img = cv2.resize(right_img, None, fx=0.5, fy=0.5)"
   ]
  },
  {
   "cell_type": "markdown",
   "metadata": {},
   "source": [
    "### Q1. Computing Normalized Cross Correlation"
   ]
  },
  {
   "cell_type": "markdown",
   "metadata": {},
   "source": [
    "In order to compute the similarity between two pixels we can take a patch around the first pixel location, another patch around the second pixel location and compute normalized cross correlation between those two. The idea is that corresponding pixels should have similar neighbourhood and thus high cross correlation score.\n",
    "\n",
    "* Implement a function ```score = NCC(patch1, patch2)``` that computes the normalized cross-correlation between two patches defined as:\n",
    "\n",
    "\\begin{equation}\n",
    "NCC(p_1,p_2) = \\frac{1}{N}( \\sum_{0<=i<p_H,0<=j<p_W} \\frac{(p_1(i,j)-\\mu(p_1))*(p_2(i,j)-\\mu(p_2))}{\\sigma(p_1)*\\sigma(p_2)})\n",
    "\\end{equation}\n",
    "\n",
    "where $p_1$ and $p_2$ are compared patches of size $p_H \\times p_W$, $N$ is the number of pixels in one patch and $\\mu()$ and $\\sigma()$ are mean and standard deviation of pixel intensities respecitvely. Hint: you can use ```np.mean()``` and ```np.std()``` functions.\n",
    "#### Input parameters\n",
    "- ```patch1 ``` : first patch\n",
    "- ```patch2``` : second patch\n",
    "\n",
    "#### Output\n",
    "- ```score``` : normalized cross correlation score"
   ]
  },
  {
   "cell_type": "code",
   "execution_count": 2,
   "metadata": {},
   "outputs": [],
   "source": [
    "def NCC(patch1,patch2):\n",
    "\n",
    "#Implement your function here\n",
    "    \n",
    "    return score"
   ]
  },
  {
   "cell_type": "markdown",
   "metadata": {},
   "source": [
    "### Q2. Finding Best Matches and Computing The Disparity Map"
   ]
  },
  {
   "cell_type": "markdown",
   "metadata": {},
   "source": [
    "A standard method for calculating the disparity map is to use a simple block matching. Essentially, for every pixel in the right image we’ll be taking a small region surrounding it (e.g. the yellow square in the figure below) and searching for the closest matching patch in the left image. The closest match is computed using normalized cross correlation implemented above. \n",
    "\n",
    "When searching in the left image, we’ll start at the same coordinates as our template patch from the right image and search $\\textit{to the right up to some maximum distance}$ (since we know that camera shifted to the left) as depicted by the green rectangle in the figure below. The disparity is measured as the horizontal distance between the centers of the template patch in the right image and the closest matching patch (in our example the dashed yellow square) in the left image. We only need to search horizontally (along the rows) since the images are already rectified.\n",
    "\n",
    "<img src=\"images/stereo.png\">\n",
    "\n",
    "* Implement a function ```disMap = PatchMatching(right_img, left_img, blockSize, disparityRange)``` that computes the disparity map using basic block matching as described above.\n",
    "#### Input parameters\n",
    "- ```right_img``` : the right image of size $H \\times W$\n",
    "- ```left_img ``` : the left image of size $H \\times W$\n",
    "- ```blockSize``` : the size of patch used for computing the normalized cross correlation score (patch is of size $blockSize \\times blockSize$)\n",
    "- ```disparityRange``` : the maximum horizontal distance (in this case to the right) we are going to search for the best machting patch. We recommend setting it to 30 to reduce the computation time. Hint: if the search range exceeds the image dimensions you can terminate the search earlier.\n",
    "\n",
    "#### Output\n",
    "- ```dispMap``` : the matrix storing the disparity values of size $H \\times W$. You are free to decide the method for handling the boundaries."
   ]
  },
  {
   "cell_type": "code",
   "execution_count": null,
   "metadata": {},
   "outputs": [],
   "source": [
    "def PatchMatching(right_img, left_img, blockSize, disparityRange = 30):\n",
    "    \n",
    "# Implement your function here\n",
    "    return dispMap"
   ]
  },
  {
   "cell_type": "markdown",
   "metadata": {},
   "source": [
    "### Q3. Visualization\n",
    "\n",
    "* Visualize the disparity maps obtained using 7x7 and 15x15 patch sizes. Display also the colorbar (e.g. using ```plt.colorbar()```) to inspect the disparity values. It can take up to two minutes to compute each disparity map. \n",
    "* What is the trade-off of using bigger patches to compute NCC? Write your answer as a comment.\n"
   ]
  },
  {
   "cell_type": "code",
   "execution_count": null,
   "metadata": {},
   "outputs": [],
   "source": []
  }
 ],
 "metadata": {
  "kernelspec": {
   "display_name": "Python 3",
   "language": "python",
   "name": "python3"
  },
  "language_info": {
   "codemirror_mode": {
    "name": "ipython",
    "version": 3
   },
   "file_extension": ".py",
   "mimetype": "text/x-python",
   "name": "python",
   "nbconvert_exporter": "python",
   "pygments_lexer": "ipython3",
   "version": "3.7.3"
  }
 },
 "nbformat": 4,
 "nbformat_minor": 2
}
