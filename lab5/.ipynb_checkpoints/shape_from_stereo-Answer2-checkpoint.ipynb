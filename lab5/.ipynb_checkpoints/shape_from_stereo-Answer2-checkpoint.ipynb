{
 "cells": [
  {
   "cell_type": "markdown",
   "metadata": {},
   "source": [
    "\n",
    "# Graded Exercise Session 2: Shape From Stereo"
   ]
  },
  {
   "cell_type": "markdown",
   "metadata": {},
   "source": [
    "One of the most common ways of reconstructing 3D shape from multiple images is called Shape-From-Stereo. It is based on the fact that points closer to the camera shift less in the image when the camera moves. By calculating the shift of each pixel we can deduce the relative distance to the camera.\n",
    "\n",
    "The algorithm consists of three steps: \n",
    "* Computing similarity between points in two images \n",
    "* Computing matching points in those images\n",
    "* Computing disparity\n",
    "\n",
    "In this exercise we will implement those three steps and test them with the given images\n",
    "<img src=\"images/left.png\">\n",
    "<img src=\"images/right.png\">\n"
   ]
  },
  {
   "cell_type": "code",
   "execution_count": 68,
   "metadata": {
    "collapsed": true
   },
   "outputs": [],
   "source": [
    "import numpy as np\n",
    "import cv2\n",
    "import matplotlib.pyplot as plt\n",
    "from mpl_toolkits.axes_grid1 import make_axes_locatable\n",
    "import time"
   ]
  },
  {
   "cell_type": "code",
   "execution_count": 69,
   "metadata": {
    "collapsed": false
   },
   "outputs": [],
   "source": [
    "left_img = cv2.imread('images/left.png',0)\n",
    "right_img = cv2.imread('images/right.png',0)\n",
    "left_img = cv2.resize(left_img, None, fx=0.5, fy=0.5)\n",
    "right_img = cv2.resize(right_img, None, fx=0.5, fy=0.5)\n",
    "imgHeight, imgWidth = left_img.shape"
   ]
  },
  {
   "cell_type": "markdown",
   "metadata": {},
   "source": [
    "### Q1. Computing Normalized Cross Correlation"
   ]
  },
  {
   "cell_type": "markdown",
   "metadata": {},
   "source": [
    "Implement a function ```score = NCC(patch1, patch2)``` that computes the normalized cross-correlation between two patches defined as:\n",
    "\n",
    "\\begin{equation}\n",
    "NCC(p_1,p_2) = \\frac{1}{N}( \\sum_{0<=i<W,0<=j<H} \\frac{p_1(i,j)-\\mu(p_1)*p_2(i,j)-\\mu(p_2)}{\\sigma(p_1)*\\sigma(p_2)})\n",
    "\\end{equation}\n",
    "\n",
    "where $p_1$ and $p_2$ are compared patches, $N$ is the number of pixels in one patch and $\\mu()$ and $\\sigma()$ are mean and standard deviation of pixel intensities respecitvely.\n",
    "#### Input parameters\n",
    "- ```patch1 ``` : patch from the left image\n",
    "- ```patch2``` : patch from the right image\n",
    "\n",
    "#### Output\n",
    "- ```score``` : normalized cross correlation score"
   ]
  },
  {
   "cell_type": "code",
   "execution_count": 70,
   "metadata": {
    "collapsed": true
   },
   "outputs": [],
   "source": [
    "def NCC(patch1,patch2):\n",
    "    \n",
    "    mean_p1 = np.mean(patch1)\n",
    "    mean_p2 = np.mean(patch2)\n",
    "    \n",
    "    std_p1 = np.std(patch1)\n",
    "    std_p2 = np.std(patch2)\n",
    "    \n",
    "    ncc = np.sum((patch1-mean_p1)*(patch2-mean_p2)/(std_p1*std_p2))/(patch1.shape[0]*patch1.shape[1])\n",
    "    \n",
    "    return ncc"
   ]
  },
  {
   "cell_type": "markdown",
   "metadata": {},
   "source": [
    "### Q2. Finding Best Matches and Computing The Disparity Map"
   ]
  },
  {
   "cell_type": "markdown",
   "metadata": {},
   "source": [
    "A standard method for calculating the disparity map is to use simple block matching. Essentially, we’ll be taking a small region of pixels in the right image, and searching for the closest matching region of pixels in the left image. The closest match is computed using normalized cross correlation implemented above. When searching the right image, we’ll start at the same coordinates as our template patch and search to the right up to some maximum distance. The disparity is just the horizontal distance between the centers of the template patch in the right image and the closest matching patch in the left image. We only need to look horizontally since the images are already rectified.\n",
    "\n",
    "Implement a function DisMap = BlockMatching(left_img, right_img) that computes the disparity map using basic block matching.\n",
    "#### Input parameters\n",
    "- ```left_img ``` : the left image\n",
    "- ```right_img``` : the right image\n",
    "- ```blockSize``` : the size of the template used for computing the normalized cross correlation score \n",
    "\n",
    "#### Output\n",
    "- ```dispMap``` : the matrix storing the disparity values of size imgHeight x imgWidth. You are free to decide the method for handling the boundaries."
   ]
  },
  {
   "cell_type": "code",
   "execution_count": 71,
   "metadata": {
    "collapsed": false
   },
   "outputs": [],
   "source": [
    "def BlockMatching(left_img, right_img, blockSize):\n",
    "    #DispMap will hold the result of the block matching. \n",
    "    dispMap = np.zeros((imgHeight, imgWidth))\n",
    "    #The disparityRange defines how many pixels away from the block's location\n",
    "    #in the first image to search for a matching block in the other image.\n",
    "    #We recommend using 30 for the disparityRange.\n",
    "    disparityRange = 30;\n",
    "    halfBlockSize = blockSize // 2;\n",
    "    #For each row 'm' of pixels in the image\n",
    "    for m in range(imgHeight):\n",
    "        #Set min/max row bounds for the template and blocks.\n",
    "        #e.g., for the first row, minr = 1 and maxr = 4\n",
    "        minr = max(0, m - halfBlockSize)\n",
    "        maxr = min(imgHeight-1, m + halfBlockSize)\n",
    "        #For each column 'n' of pixels in the image\n",
    "        for n in range(imgWidth):\n",
    "            #Set the min/max column bounds for the template.\n",
    "            #e.g., for the first column, minc = 1 and maxc = 4\n",
    "            minc = max(0, n - halfBlockSize)\n",
    "            maxc = min(imgWidth-1, n + halfBlockSize)\n",
    "            #Define the search boundaries as offsets from the template location.\n",
    "            #Limit the search so that we don't go outside of the image. \n",
    "            #'mind' is the the maximum number of pixels we can search to the left.\n",
    "            #'maxd' is the maximum number of pixels we can search to the right.\n",
    "            #mind = max(-disparityRange, 0 - minc)\n",
    "            #If we only need to search to the right uncomment the line below and comment out the line above.\n",
    "            mind = 0; \n",
    "            maxd = min(disparityRange, (imgWidth-1) - maxc)\n",
    "            #Select the block from the right image to use as the template.\n",
    "            template = right_img[minr:maxr, minc:maxc]\n",
    "            #Get the number of blocks in this search.\n",
    "            numBlocks = maxd - mind + 1;\n",
    "            #Create a vector to hold the block differences.\n",
    "            blockDiffs = np.zeros((numBlocks, 1))\n",
    "            \n",
    "            #Calculate the difference between the template and each of the blocks.\n",
    "            for i in range(mind, maxd+1):\n",
    "                #Select the block from the left image at the distance 'i'.\n",
    "                block = left_img[minr:maxr, (minc + i):(maxc + i)]\n",
    "                #Compute the index of this block into the 'blockDiffs' vector.\n",
    "                blockIndex = i - mind\n",
    "                #Take the sum of absolute differences (SAD) between the template\n",
    "                #and the block and store the resulting value.\n",
    "                blockDiffs[blockIndex, 0] = NCC(template, block)\n",
    "\n",
    "            #Get the index of the closest-matching block.\n",
    "            bestMatchIndex = blockDiffs.argmax()\n",
    "            #Convert the index of this block back into an offset.\n",
    "            #This is the final disparity value produced by basic block matching.\n",
    "            d = bestMatchIndex + mind\n",
    "            dispMap[m, n] = d\n",
    "\n",
    "    return dispMap"
   ]
  },
  {
   "cell_type": "markdown",
   "metadata": {},
   "source": [
    "* Visualize the disparity map for 7x7 and 15x15 block sizes. It can take up to two minutes to compute each disparity map. What is the trade-off of using bigger templates? Write your answer as a comment."
   ]
  },
  {
   "cell_type": "code",
   "execution_count": 72,
   "metadata": {
    "collapsed": false
   },
   "outputs": [
    {
     "name": "stdout",
     "output_type": "stream",
     "text": [
      "91.62518262863159\n"
     ]
    },
    {
     "data": {
      "image/png": "[encoded data removed]",
      "text/plain": [
       "<matplotlib.figure.Figure at 0x7f9cb0d30240>"
      ]
     },
     "metadata": {},
     "output_type": "display_data"
    }
   ],
   "source": [
    "#Visualize the disparity map\n",
    "start = time.time()\n",
    "dispmap = BlockMatching(left_img, right_img, 7)\n",
    "endt = time.time()\n",
    "print(endt - start)\n",
    "plt.figure()\n",
    "ax = plt.gca()\n",
    "im = ax.imshow(dispmap, cmap='jet')\n",
    "divider = make_axes_locatable(ax)\n",
    "cax = divider.append_axes(\"right\", size=\"5%\", pad=0.05)\n",
    "plt.colorbar(im, cax=cax)\n",
    "plt.show()"
   ]
  },
  {
   "cell_type": "code",
   "execution_count": 74,
   "metadata": {
    "collapsed": false
   },
   "outputs": [
    {
     "name": "stdout",
     "output_type": "stream",
     "text": [
      "98.26623201370239\n"
     ]
    },
    {
     "data": {
      "image/png": "[encoded data removed]",
      "text/plain": [
       "<matplotlib.figure.Figure at 0x7f9cb0d14908>"
      ]
     },
     "metadata": {},
     "output_type": "display_data"
    }
   ],
   "source": [
    "#Visualize the disparity map\n",
    "start = time.time()\n",
    "dispmap = BlockMatching(left_img, right_img, 15)\n",
    "endt = time.time()\n",
    "print(endt - start)\n",
    "plt.figure()\n",
    "ax = plt.gca()\n",
    "im = ax.imshow(dispmap, cmap='jet')\n",
    "divider = make_axes_locatable(ax)\n",
    "cax = divider.append_axes(\"right\", size=\"5%\", pad=0.05)\n",
    "plt.colorbar(im, cax=cax)\n",
    "plt.show()"
   ]
  },
  {
   "cell_type": "code",
   "execution_count": null,
   "metadata": {
    "collapsed": true
   },
   "outputs": [],
   "source": []
  }
 ],
 "metadata": {
  "kernelspec": {
   "display_name": "Python 3",
   "language": "python",
   "name": "python3"
  },
  "language_info": {
   "codemirror_mode": {
    "name": "ipython",
    "version": 3
   },
   "file_extension": ".py",
   "mimetype": "text/x-python",
   "name": "python",
   "nbconvert_exporter": "python",
   "pygments_lexer": "ipython3",
   "version": "3.6.0"
  }
 },
 "nbformat": 4,
 "nbformat_minor": 2
}
